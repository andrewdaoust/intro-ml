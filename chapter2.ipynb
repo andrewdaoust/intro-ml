{
 "cells": [
  {
   "cell_type": "code",
   "execution_count": 1,
   "metadata": {},
   "outputs": [],
   "source": [
    "%matplotlib inline"
   ]
  },
  {
   "cell_type": "markdown",
   "metadata": {},
   "source": [
    "# Chapter 2 Notes\n",
    "\n",
    "The two major supervised learning models are classification (iris example in ch. 1 was this kind) and __regression__.\n",
    "\n",
    "Classification has the goal of predicting class labels.  These types of problems are broken down ever further to __binary classification__ where the goal is to distinguish between exactly two classes (think of it like a yes/no question) and __multiclass classification__ where there are more than two classes to distinguish (the iris example was this type with its three class labels).\n",
    "\n",
    "Regression has the goal of predicting a continuous number.  Some examples where regression models might be used are :\n",
    "* predicting annual income based on education\n",
    "* yield of a corn farm given different environmental factors\n",
    "\n",
    "Easy way to distinguish which model to use: is there any continuity between the possible outcomes?  If so, regression is the way to go.  If results are discrete then classification is a better modelling strategy.\n",
    "\n",
    "##### Generalization, Overfitting, Underfitting\n",
    "\n",
    "Models that predict accurately on unseen data is said to generalize well.  Intuitively we expect simpler models to generalize better so we want to find the simplest model.  Building a model that is too complex for the amount of info is called __overfitting__.  This occurs when a model is fit too closely to the particulars of a training set.  The opposite of this is __underfitting__, when a model is too simple and may perform poorly on even the test data.  We want to find a model in the middle of these the gives the best generalization performance.\n",
    "\n",
    "![Overfitting vs underfitting](provided/images/overfitting_underfitting_cartoon.png \"Overfitting vs underfitting\")"
   ]
  },
  {
   "cell_type": "code",
   "execution_count": null,
   "metadata": {},
   "outputs": [],
   "source": []
  }
 ],
 "metadata": {
  "kernelspec": {
   "display_name": "ml-kernel",
   "language": "python",
   "name": "ml-kernel"
  },
  "language_info": {
   "codemirror_mode": {
    "name": "ipython",
    "version": 3
   },
   "file_extension": ".py",
   "mimetype": "text/x-python",
   "name": "python",
   "nbconvert_exporter": "python",
   "pygments_lexer": "ipython3",
   "version": "3.6.7"
  }
 },
 "nbformat": 4,
 "nbformat_minor": 2
}
